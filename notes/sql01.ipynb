{
 "cells": [
  {
   "cell_type": "code",
   "execution_count": 1,
   "metadata": {},
   "outputs": [],
   "source": [
    "### 16-04-2024"
   ]
  },
  {
   "cell_type": "markdown",
   "metadata": {},
   "source": [
    "Table: Customers\n",
    "\n",
    "+-------------+---------+\n",
    "| Column Name | Type    |\n",
    "+-------------+---------+\n",
    "| id          | int     |\n",
    "| name        | varchar |\n",
    "+-------------+---------+\n",
    "id is the primary key (column with unique values) for this table.\n",
    "Each row of this table indicates the ID and name of a customer.\n",
    " \n",
    "\n",
    "Table: Orders\n",
    "\n",
    "+-------------+------+\n",
    "| Column Name | Type |\n",
    "+-------------+------+\n",
    "| id          | int  |\n",
    "| customerId  | int  |\n",
    "+-------------+------+\n",
    "id is the primary key (column with unique values) for this table.\n",
    "customerId is a foreign key (reference columns) of the ID from the Customers table.\n",
    "Each row of this table indicates the ID of an order and the ID of the customer who ordered it.\n",
    " \n",
    "\n",
    "Write a solution to find all customers who never order anything.\n",
    "\n",
    "Return the result table in any order.\n",
    "```SQL\n",
    "SELECT c.name AS Customers \n",
    "FROM customers AS c\n",
    "LEFT JOIN orders AS o\n",
    "ON c.id = o.customerId\n",
    "WHERE o.customerId IS NULL;\n",
    "\n",
    "SELECT c.name AS Customers \n",
    "FROM customers AS c\n",
    "WHERE NOT EXISTS (\n",
    "    SELECT 1\n",
    "    FROM orders AS o\n",
    "    WHERE c.id = o.customerId\n",
    ");\n"
   ]
  }
 ],
 "metadata": {
  "kernelspec": {
   "display_name": "Python 3",
   "language": "python",
   "name": "python3"
  },
  "language_info": {
   "codemirror_mode": {
    "name": "ipython",
    "version": 3
   },
   "file_extension": ".py",
   "mimetype": "text/x-python",
   "name": "python",
   "nbconvert_exporter": "python",
   "pygments_lexer": "ipython3",
   "version": "3.7.5"
  }
 },
 "nbformat": 4,
 "nbformat_minor": 2
}
